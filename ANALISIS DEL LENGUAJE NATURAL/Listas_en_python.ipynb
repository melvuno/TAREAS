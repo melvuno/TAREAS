{
  "cells": [
    {
      "cell_type": "markdown",
      "id": "fc1dc49e",
      "metadata": {
        "id": "fc1dc49e"
      },
      "source": [
        "  <img src=\"python.png\" width='100' height='100'>  <center>  Listas en Python </center>"
      ]
    },
    {
      "cell_type": "markdown",
      "id": "57e1aa9d",
      "metadata": {
        "id": "57e1aa9d"
      },
      "source": [
        "Las listas en Python son un tipo de dato que permite almacenar datos de cualquier tipo. Son mutables y dinámicas, lo cual es la principal diferencia con los sets y las tuplas.\n",
        "\n",
        "## Crear listas Python\n",
        "\n",
        "Las listas en Python son uno de los tipos o estructuras de datos más versátiles del lenguaje, ya que permiten almacenar un conjunto arbitrario de datos. Es decir, podemos guardar en ellas prácticamente lo que sea. Si vienes de otros lenguajes de programación, se podría decir que son similares a los arrays."
      ]
    },
    {
      "cell_type": "code",
      "execution_count": null,
      "id": "ccbfef58",
      "metadata": {
        "id": "ccbfef58"
      },
      "outputs": [],
      "source": [
        "lista = [1, 2, 3, 4]"
      ]
    },
    {
      "cell_type": "code",
      "execution_count": null,
      "id": "b8351efe",
      "metadata": {
        "id": "b8351efe"
      },
      "outputs": [],
      "source": [
        "# También se puede crear usando list y pasando un objeto iterable.\n",
        "lista = list(\"1234\")"
      ]
    },
    {
      "cell_type": "markdown",
      "id": "ee7809df",
      "metadata": {
        "id": "ee7809df"
      },
      "source": [
        "Una lista sea crea con [] separando sus elementos con comas ,. Una gran ventaja es que pueden almacenar tipos de datos distintos."
      ]
    },
    {
      "cell_type": "code",
      "execution_count": null,
      "id": "b947e57f",
      "metadata": {
        "id": "b947e57f"
      },
      "outputs": [],
      "source": [
        "lista = [1, \"Hola\", 3.67, [1, 2, 3]]"
      ]
    },
    {
      "cell_type": "markdown",
      "id": "b6273e5b",
      "metadata": {
        "id": "b6273e5b"
      },
      "source": [
        "Algunas propiedades de las listas:\n",
        "\n",
        "Son ordenadas, mantienen el orden en el que han sido definidas\n",
        "Pueden ser formadas por tipos arbitrarios\n",
        "Pueden ser indexadas con [i].\n",
        "Se pueden anidar, es decir, meter una dentro de la otra.\n",
        "Son mutables, ya que sus elementos pueden ser modificados.\n",
        "Son dinámicas, ya que se pueden añadir o eliminar elementos.\n",
        "\n",
        "## Acceder y modificar listas\n",
        "\n",
        "Si tenemos una lista a con 3 elementos almacenados en ella, podemos acceder a los mismos usando corchetes y un índice, que va desde 0 a n-1 siendo n el tamaño de la lista."
      ]
    },
    {
      "cell_type": "code",
      "execution_count": null,
      "id": "f0aa256d",
      "metadata": {
        "colab": {
          "base_uri": "https://localhost:8080/"
        },
        "id": "f0aa256d",
        "outputId": "03dc80fd-927d-4843-854f-ec0788d36e2b"
      },
      "outputs": [
        {
          "output_type": "stream",
          "name": "stdout",
          "text": [
            "90\n",
            "Python\n",
            "3.87\n"
          ]
        }
      ],
      "source": [
        "a = [90, \"Python\", 3.87]\n",
        "print(a[0]) #90\n",
        "print(a[1]) #Python\n",
        "print(a[2]) #3.87"
      ]
    },
    {
      "cell_type": "code",
      "execution_count": null,
      "id": "7eceecd4",
      "metadata": {
        "colab": {
          "base_uri": "https://localhost:8080/"
        },
        "id": "7eceecd4",
        "outputId": "a11807d9-f8ed-498f-f8be-65a7a0e096a8"
      },
      "outputs": [
        {
          "output_type": "stream",
          "name": "stdout",
          "text": [
            "Python\n"
          ]
        }
      ],
      "source": [
        "#Se puede también acceder al último elemento usando el índice [-1]\n",
        "print(a[-2]) #Python"
      ]
    },
    {
      "cell_type": "code",
      "execution_count": null,
      "id": "dbda4578",
      "metadata": {
        "colab": {
          "base_uri": "https://localhost:8080/"
        },
        "id": "dbda4578",
        "outputId": "2dedd213-1ec8-41cb-bf55-d368c2f6b57c"
      },
      "outputs": [
        {
          "output_type": "stream",
          "name": "stdout",
          "text": [
            "[90, 'Python', 1]\n"
          ]
        }
      ],
      "source": [
        "#Y si queremos modificar un elemento de la lista, basta con asignar con el operador = el nuevo valor.\n",
        "a[2] = 1\n",
        "print(a) #[90, 'Python', 1]"
      ]
    },
    {
      "cell_type": "code",
      "execution_count": null,
      "id": "85ab32c0",
      "metadata": {
        "colab": {
          "base_uri": "https://localhost:8080/"
        },
        "id": "85ab32c0",
        "outputId": "33f5f63a-f2e8-4aa9-a040-a96681076a97"
      },
      "outputs": [
        {
          "output_type": "stream",
          "name": "stdout",
          "text": [
            "[1, 3, 4, 5]\n"
          ]
        }
      ],
      "source": [
        "#Un elemento puede ser eliminado con diferentes métodos como veremos a continuación,\n",
        "#o con del y la lista con el índice a eliminar.\n",
        "l = [1, 2, 3, 4, 5]\n",
        "del l[1]\n",
        "print(l) #[1, 3, 4, 5]"
      ]
    },
    {
      "cell_type": "markdown",
      "id": "a6861c50",
      "metadata": {
        "id": "a6861c50"
      },
      "source": [
        "También podemos tener listas anidadas, es decir, una lista dentro de otra. Incluso podemos tener una lista dentro de otra lista y a su vez dentro de otra lista. Para acceder a sus elementos sólo tenemos que usar [] tantas veces como niveles de anidado tengamos."
      ]
    },
    {
      "cell_type": "code",
      "execution_count": null,
      "id": "de44f673",
      "metadata": {
        "colab": {
          "base_uri": "https://localhost:8080/"
        },
        "id": "de44f673",
        "outputId": "6a50c774-111d-424d-81ee-0ba54ece62ed"
      },
      "outputs": [
        {
          "output_type": "stream",
          "name": "stdout",
          "text": [
            "p\n",
            "5\n",
            "7\n"
          ]
        }
      ],
      "source": [
        "x = [1, 2, 3, ['p', 'q', [5, 6, 7]]]\n",
        "print(x[3][0])    #p\n",
        "print(x[3][2][0]) #5\n",
        "print(x[3][2][2]) #7"
      ]
    },
    {
      "cell_type": "code",
      "execution_count": null,
      "id": "7671cdb8",
      "metadata": {
        "colab": {
          "base_uri": "https://localhost:8080/"
        },
        "id": "7671cdb8",
        "outputId": "26d242d5-0ff6-4c4e-80c0-ed8c241cc411"
      },
      "outputs": [
        {
          "output_type": "stream",
          "name": "stdout",
          "text": [
            "[0, 0, 0, 4, 5, 6]\n"
          ]
        }
      ],
      "source": [
        "# Y de la misma manera podemos modificar múltiples valores de la lista a la vez usando :\n",
        "l = [1, 2, 3, 4, 5, 6]\n",
        "l[0:3] = [0, 0, 0]\n",
        "print(l) #[0, 0, 0, 4, 5, 6]"
      ]
    },
    {
      "cell_type": "code",
      "execution_count": null,
      "id": "2aeb0419",
      "metadata": {
        "colab": {
          "base_uri": "https://localhost:8080/"
        },
        "id": "2aeb0419",
        "outputId": "a5a8e406-456c-4582-acab-3ef8072ba43d"
      },
      "outputs": [
        {
          "output_type": "stream",
          "name": "stdout",
          "text": [
            "[1, 2, 3, 4, 5]\n"
          ]
        }
      ],
      "source": [
        "# Hay ciertos operadores como el + que pueden ser usados sobre las listas.\n",
        "l = [1, 2, 3]\n",
        "l += [4, 5]\n",
        "print(l) #[1, 2, 3, 4, 5]"
      ]
    },
    {
      "cell_type": "code",
      "execution_count": null,
      "id": "e2800592",
      "metadata": {
        "colab": {
          "base_uri": "https://localhost:8080/"
        },
        "id": "e2800592",
        "outputId": "4938d1f7-2e5d-4ec4-a3d5-b17451be026c"
      },
      "outputs": [
        {
          "output_type": "stream",
          "name": "stdout",
          "text": [
            "1 2 3\n"
          ]
        }
      ],
      "source": [
        "#Y una funcionalidad muy interesante es que se puede asignar una lista con n elementos a n variables.\n",
        "l = [1, 2, 3]\n",
        "x, y, z = l\n",
        "print(x, y, z) #1 2 3"
      ]
    },
    {
      "cell_type": "markdown",
      "id": "4e413350",
      "metadata": {
        "id": "4e413350"
      },
      "source": [
        "## Iterar listas\n",
        "En Python es muy fácil iterar una lista, mucho más que en otros lenguajes de programación."
      ]
    },
    {
      "cell_type": "code",
      "execution_count": null,
      "id": "ebf6ff3b",
      "metadata": {
        "colab": {
          "base_uri": "https://localhost:8080/"
        },
        "id": "ebf6ff3b",
        "outputId": "ea06271b-35cc-4d0a-8b3f-469d2622a9e1"
      },
      "outputs": [
        {
          "output_type": "stream",
          "name": "stdout",
          "text": [
            "5\n",
            "9\n",
            "10\n"
          ]
        }
      ],
      "source": [
        "lista = [5, 9, 10]\n",
        "for l in lista:\n",
        "    print(l)\n",
        "#5\n",
        "#9\n",
        "#10"
      ]
    },
    {
      "cell_type": "code",
      "execution_count": null,
      "id": "33b65f8c",
      "metadata": {
        "colab": {
          "base_uri": "https://localhost:8080/"
        },
        "id": "33b65f8c",
        "outputId": "28a0e95c-d29e-4e46-f563-10073a12e8ea"
      },
      "outputs": [
        {
          "output_type": "stream",
          "name": "stdout",
          "text": [
            "0 5\n",
            "1 9\n",
            "2 10\n"
          ]
        }
      ],
      "source": [
        "# Si necesitamos un índice acompañado con la lista, que tome valores desde 0 hasta n-1, se puede hacer de la siguiente manera.\n",
        "lista = [5, 9, 10]\n",
        "for index, l in enumerate(lista):\n",
        "    print(index, l)\n",
        "#0 5\n",
        "#1 9\n",
        "#2 10"
      ]
    },
    {
      "cell_type": "code",
      "execution_count": null,
      "id": "3da34a22",
      "metadata": {
        "colab": {
          "base_uri": "https://localhost:8080/"
        },
        "id": "3da34a22",
        "outputId": "253d4502-0964-4792-fa9e-146a94b75921"
      },
      "outputs": [
        {
          "output_type": "stream",
          "name": "stdout",
          "text": [
            "5 Jazz\n",
            "9 Rock\n",
            "10 Djent\n"
          ]
        }
      ],
      "source": [
        "# O si tenemos dos listas y las queremos iterar a la vez, también es posible hacerlo.\n",
        "lista1 = [5, 9, 10]\n",
        "lista2 = [\"Jazz\", \"Rock\", \"Djent\"]\n",
        "for l1, l2 in zip(lista1, lista2):\n",
        "    print(l1, l2)\n",
        "#5 Jazz\n",
        "#9 Rock\n",
        "#10 Djent"
      ]
    },
    {
      "cell_type": "code",
      "execution_count": null,
      "id": "cb1d6d84",
      "metadata": {
        "colab": {
          "base_uri": "https://localhost:8080/"
        },
        "id": "cb1d6d84",
        "outputId": "e6ca0afe-5b51-4aa0-8be7-e5b522b0e7cc"
      },
      "outputs": [
        {
          "output_type": "stream",
          "name": "stdout",
          "text": [
            "5\n",
            "9\n",
            "10\n"
          ]
        }
      ],
      "source": [
        "#Y por supuesto, también se pueden iterar las listas usando los índices como hemos visto al principio,\n",
        "# y haciendo uso de len(), que nos devuelve la longitud de la lista.\n",
        "lista1 = [5, 9, 10]\n",
        "for i in range(0, len(lista)):\n",
        "    print(lista1[i])\n",
        "#5\n",
        "#9\n",
        "#10"
      ]
    },
    {
      "cell_type": "markdown",
      "id": "7e2c1ed9",
      "metadata": {
        "id": "7e2c1ed9"
      },
      "source": [
        "## Métodos listas\n",
        "append(<obj>)\n",
        "El método append() añade un elemento al final de la lista."
      ]
    },
    {
      "cell_type": "code",
      "execution_count": null,
      "id": "47c7810c",
      "metadata": {
        "colab": {
          "base_uri": "https://localhost:8080/"
        },
        "id": "47c7810c",
        "outputId": "cd74dd5c-aeeb-4081-cf28-161ab4a25f01"
      },
      "outputs": [
        {
          "output_type": "stream",
          "name": "stdout",
          "text": [
            "[1, 2, 3]\n"
          ]
        }
      ],
      "source": [
        "l = [1, 2]\n",
        "l.append(3)\n",
        "print(l) #[1, 2, 3]"
      ]
    },
    {
      "cell_type": "code",
      "execution_count": null,
      "id": "ddb04f03",
      "metadata": {
        "colab": {
          "base_uri": "https://localhost:8080/"
        },
        "id": "ddb04f03",
        "outputId": "b6e2703d-007a-4d38-c891-2820d7f6d573"
      },
      "outputs": [
        {
          "output_type": "stream",
          "name": "stdout",
          "text": [
            "[1, 2, 3]\n"
          ]
        }
      ],
      "source": [
        "# extend(<iterable>)\n",
        "# El método extend() permite añadir una lista a la lista inicial.\n",
        "l = [1, 3]\n",
        "l.insert(1, 2)\n",
        "print(l) #[1, 2, 3]"
      ]
    },
    {
      "cell_type": "code",
      "execution_count": null,
      "id": "a300fb23",
      "metadata": {
        "colab": {
          "base_uri": "https://localhost:8080/"
        },
        "id": "a300fb23",
        "outputId": "08c11cb8-959a-4f3b-9d91-cd8a266dec33"
      },
      "outputs": [
        {
          "output_type": "stream",
          "name": "stdout",
          "text": [
            "[1, 2]\n"
          ]
        }
      ],
      "source": [
        "#remove(<obj>)\n",
        "#El método remove() recibe como argumento un objeto y lo borra de la lista.\n",
        "l = [1, 2, 3]\n",
        "l.remove(3)\n",
        "print(l) #[1, 2]"
      ]
    },
    {
      "cell_type": "code",
      "execution_count": null,
      "id": "ab50b69b",
      "metadata": {
        "colab": {
          "base_uri": "https://localhost:8080/"
        },
        "id": "ab50b69b",
        "outputId": "e9802dc6-1568-4600-99d8-9b9558c0a88b"
      },
      "outputs": [
        {
          "output_type": "stream",
          "name": "stdout",
          "text": [
            "[1, 2]\n"
          ]
        }
      ],
      "source": [
        "#pop(index=-1)\n",
        "# El método pop() elimina por defecto el último elemento de la lista,\n",
        "# pero si se pasa como parámetro un índice permite borrar elementos diferentes al último.\n",
        "l = [1, 2, 3]\n",
        "l.pop()\n",
        "print(l) #[1, 2]"
      ]
    },
    {
      "cell_type": "code",
      "execution_count": null,
      "id": "ece12439",
      "metadata": {
        "colab": {
          "base_uri": "https://localhost:8080/"
        },
        "id": "ece12439",
        "outputId": "97b2ea1e-f589-441e-f092-a1f21a95aeed"
      },
      "outputs": [
        {
          "output_type": "stream",
          "name": "stdout",
          "text": [
            "[3, 2, 1]\n"
          ]
        }
      ],
      "source": [
        "# reverse()\n",
        "# El método reverse() inverte el órden de la lista.\n",
        "l = [1, 2, 3]\n",
        "l.reverse()\n",
        "print(l) #[3, 2, 1]"
      ]
    },
    {
      "cell_type": "code",
      "execution_count": null,
      "id": "6168bb63",
      "metadata": {
        "colab": {
          "base_uri": "https://localhost:8080/"
        },
        "id": "6168bb63",
        "outputId": "5d17d3d8-61e9-4257-f5a0-fc7024bbe224"
      },
      "outputs": [
        {
          "output_type": "stream",
          "name": "stdout",
          "text": [
            "[1, 2, 3]\n"
          ]
        }
      ],
      "source": [
        "# sort()\n",
        "# El método sort() ordena los elementos de menos a mayor por defecto.\n",
        "l = [3, 1, 2]\n",
        "l.sort()\n",
        "print(l) #[1, 2, 3]"
      ]
    },
    {
      "cell_type": "code",
      "execution_count": null,
      "id": "d238f3e3",
      "metadata": {
        "colab": {
          "base_uri": "https://localhost:8080/"
        },
        "id": "d238f3e3",
        "outputId": "9dc13233-28ad-4835-d547-c712ebd63f6b"
      },
      "outputs": [
        {
          "output_type": "stream",
          "name": "stdout",
          "text": [
            "[3, 2, 1]\n"
          ]
        }
      ],
      "source": [
        "# Y también permite ordenar de mayor a menor si se pasa como parámetro reverse=True\n",
        "l = [3, 1, 2]\n",
        "l.sort(reverse=True)\n",
        "print(l) #[3, 2, 1]"
      ]
    },
    {
      "cell_type": "code",
      "execution_count": null,
      "id": "06c643c9",
      "metadata": {
        "colab": {
          "base_uri": "https://localhost:8080/"
        },
        "id": "06c643c9",
        "outputId": "3bf56a25-a495-4b27-b168-f5d1da77c9e4"
      },
      "outputs": [
        {
          "output_type": "stream",
          "name": "stdout",
          "text": [
            "1\n"
          ]
        }
      ],
      "source": [
        "# index(<obj>[,index])\n",
        "#El método index() recibe como parámetro un objeto y devuelve el índice de su primera aparición.\n",
        "#Como hemos visto en otras ocasiones, el índice del primer elemento es el 0.\n",
        "l = [\"Periphery\", \"Intervals\", \"Monuments\"]\n",
        "print(l.index(\"Intervals\"))"
      ]
    },
    {
      "cell_type": "code",
      "execution_count": null,
      "id": "30439223",
      "metadata": {
        "colab": {
          "base_uri": "https://localhost:8080/"
        },
        "id": "30439223",
        "outputId": "5ead4ba8-cc1f-4a7d-cde4-eb769591523f"
      },
      "outputs": [
        {
          "output_type": "stream",
          "name": "stdout",
          "text": [
            "5\n"
          ]
        }
      ],
      "source": [
        "#También permite introducir un parámetro opcional que representa el índice desde el que comenzar la búsqueda del objeto.\n",
        "#Es como si ignorara todo lo que hay antes de ese índice para la búsqueda, en este caso el 4.\n",
        "l = [1, 1, 1, 1, 2, 1, 4, 5]\n",
        "print(l.index(1, 4)) #5"
      ]
    },
    {
      "cell_type": "markdown",
      "id": "48610ceb",
      "metadata": {
        "id": "48610ceb"
      },
      "source": [
        "## METACOGNICIÓN"
      ]
    },
    {
      "cell_type": "code",
      "execution_count": null,
      "id": "4482502e",
      "metadata": {
        "id": "4482502e"
      },
      "outputs": [],
      "source": [
        "#Elabora un programa que lea un arreglo de 10 posiciones que contenga las edades de 10 de sus compañeros,\n",
        "#calcule el promedio de las edades, obtenga la edad mayor y la edad menor. Al final imprima todos los elementos de la lista"
      ]
    },
    {
      "cell_type": "code",
      "source": [
        "def calcular_promedio(edades):\n",
        "    return sum(edades) / len(edades)\n",
        "\n",
        "# función principal\n",
        "def main():\n",
        "    # Inicializar un arreglo de 10 posiciones para almacenar las edades\n",
        "    edades = []\n",
        "\n",
        "    # Leer las edades de los compañeros\n",
        "    for i in range(10):\n",
        "      edad = int(input(f\"Ingrese la edad del compañero {i + 1}:\"))\n",
        "      edades.append(edad)\n",
        "\n",
        "    #calcular el promedio\n",
        "    promedio = calcular_promedio(edades)\n",
        "\n",
        "\n",
        "    # Obtener la edad mayor y la edad menor\n",
        "    edad_mayor = max(edades)\n",
        "    edad_menor = min(edades)\n",
        "\n",
        "    #Imprimir resultados\n",
        "    print(\"\\nEdades ingresadas\")\n",
        "    for i, edad in enumerate(edades):\n",
        "        print(f\"compañero {i + 1}: {edad} años\")\n",
        "\n",
        "    print(f\"\\nPromedio de edades: {promedio}\")\n",
        "    print(f\"Edad mayor: {edad_mayor}\")\n",
        "    print(f\"Edad menor: {edad_menor}\")\n",
        "\n",
        "# Ejecutar el programa principal\n",
        "if __name__ == \"__main__\":\n",
        "    main()"
      ],
      "metadata": {
        "colab": {
          "base_uri": "https://localhost:8080/"
        },
        "id": "yevs5MxxvhJ9",
        "outputId": "f4778d62-c41f-4533-e379-dd1e5f239667"
      },
      "id": "yevs5MxxvhJ9",
      "execution_count": null,
      "outputs": [
        {
          "output_type": "stream",
          "name": "stdout",
          "text": [
            "Ingrese la edad del compañero 1:17\n",
            "Ingrese la edad del compañero 2:17\n",
            "Ingrese la edad del compañero 3:18\n",
            "Ingrese la edad del compañero 4:17\n",
            "Ingrese la edad del compañero 5:18\n",
            "Ingrese la edad del compañero 6:17\n",
            "Ingrese la edad del compañero 7:18\n",
            "Ingrese la edad del compañero 8:17\n",
            "Ingrese la edad del compañero 9:18\n",
            "Ingrese la edad del compañero 10:17\n",
            "\n",
            "Edades ingresadas\n",
            "compañero 1: 17 años\n",
            "compañero 2: 17 años\n",
            "compañero 3: 18 años\n",
            "compañero 4: 17 años\n",
            "compañero 5: 18 años\n",
            "compañero 6: 17 años\n",
            "compañero 7: 18 años\n",
            "compañero 8: 17 años\n",
            "compañero 9: 18 años\n",
            "compañero 10: 17 años\n",
            "\n",
            "Promedio de edades: 17.4\n",
            "Edad mayor: 18\n",
            "Edad menor: 17\n"
          ]
        }
      ]
    },
    {
      "cell_type": "code",
      "execution_count": null,
      "id": "767134d7",
      "metadata": {
        "id": "767134d7"
      },
      "outputs": [],
      "source": [
        "#Elabore un programa que lea un arreglo de 14 posiciones que contenga los sueldos de los trabajadores de una empresa\n",
        "#agregue el sueldo de un empleado más de $2,500.00, Calcule la nomina total (suma de todos los sueldos) ordene el arreglo\n",
        "#Ordene los datos, elimine el primer elemento de la fila, Al final imprima todos los elementos de la lista"
      ]
    }
  ],
  "metadata": {
    "kernelspec": {
      "display_name": "Python 3 (ipykernel)",
      "language": "python",
      "name": "python3"
    },
    "language_info": {
      "codemirror_mode": {
        "name": "ipython",
        "version": 3
      },
      "file_extension": ".py",
      "mimetype": "text/x-python",
      "name": "python",
      "nbconvert_exporter": "python",
      "pygments_lexer": "ipython3",
      "version": "3.9.13"
    },
    "colab": {
      "provenance": []
    }
  },
  "nbformat": 4,
  "nbformat_minor": 5
}